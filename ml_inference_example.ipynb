{
 "cells": [
  {
   "cell_type": "markdown",
   "metadata": {},
   "source": [
    "## HTZG Inference Example Notebook\n",
    "\n",
    "This notebook gives an example of using the ML models trained as part of \"A statistical analysis of phonon-induced bandgap renormalization within a database of 2D materials\". \n",
    "\n",
    "For details on required libraries and on re-training the model yourself, see the Git readme. "
   ]
  },
  {
   "cell_type": "markdown",
   "metadata": {},
   "source": [
    "This next cell just imports the needed libraries to perform inference. "
   ]
  },
  {
   "cell_type": "code",
   "execution_count": 7,
   "metadata": {},
   "outputs": [],
   "source": [
    "import numpy as np \n",
    "from sklearn.ensemble import ExtraTreesRegressor\n",
    "import pickle"
   ]
  },
  {
   "cell_type": "markdown",
   "metadata": {},
   "source": [
    "Next, we will load our full and reduced models. This notebook will show inference examples on the reduced model, but the process for using the full model is identical. \n",
    "\n",
    "Both models are ```scikit-learn``` ExtraTreesRegressor models. Full documentation can be found [here](https://scikit-learn.org/stable/modules/generated/sklearn.ensemble.ExtraTreesRegressor.html#sklearn.ensemble.ExtraTreesRegressor)."
   ]
  },
  {
   "cell_type": "code",
   "execution_count": 8,
   "metadata": {},
   "outputs": [],
   "source": [
    "final_model_redu = pickle.load(open('models/final_model_redu.sav', 'rb'))\n",
    "final_model_full = pickle.load(open('models/final_model_full.sav', 'rb'))"
   ]
  },
  {
   "cell_type": "markdown",
   "metadata": {},
   "source": [
    "### Making ML Predictions\n",
    "\n",
    "For each model, we want to present the material properties needed to make our ZPR prediction to our model as either a **list** or a **Numpy matrix**. This matrix also needs to be formatted properly, an example of which is shown below. It is important we input our data in the correct order or the final prediction will not make sense. The material properties and order are as follows:\n",
    "\n",
    "#### Full Model\n",
    "['epsilons','ens','becs','mean_atomic_masses','mean_ph_freqs','first_optical_ph_freqs','eq_gaps','atoms_per_areas','areal_densities']\n",
    "#### Reduced Model\n",
    "['ens','mean_atomic_masses',  'eq_gaps','atoms_per_areas','areal_densities']\n",
    "\n",
    "More information on what these properties are can be found in the full paper. \n"
   ]
  },
  {
   "cell_type": "markdown",
   "metadata": {},
   "source": [
    "For this demonstration, we will grab a sample element from the C2DB database we ran our reduced model on in the paper. I picked $Bi_2 GeI_4 Se_2$ as my sample element. From the database we can manually grab the relevant material properties for our model:"
   ]
  },
  {
   "cell_type": "code",
   "execution_count": 17,
   "metadata": {},
   "outputs": [],
   "source": [
    "ens = 0.65\n",
    "mean_atomic_mass = 128.46\n",
    "eq_gaps = 0.7665\n",
    "atoms_per_area = 0.187\n",
    "areal_densities = 24.058\n",
    "\n",
    "features_bi2gei4se2 = np.array([ens,mean_atomic_mass,eq_gaps,atoms_per_area,areal_densities]).reshape(1, -1)"
   ]
  },
  {
   "cell_type": "markdown",
   "metadata": {},
   "source": [
    "Now, we use this with our reduced model's ```predict()``` function to generate our prediction."
   ]
  },
  {
   "cell_type": "code",
   "execution_count": 19,
   "metadata": {},
   "outputs": [
    {
     "name": "stdout",
     "output_type": "stream",
     "text": [
      "Bi2GeI4Se2 Predicted ZPR: 0.06167395160532767 [eV]\n"
     ]
    }
   ],
   "source": [
    "predicted_zpr_bi2gei4se2 = final_model_redu.predict(features_bi2gei4se2)[0]\n",
    "print('Bi2GeI4Se2 Predicted ZPR:',predicted_zpr_bi2gei4se2,'[eV]')"
   ]
  },
  {
   "cell_type": "markdown",
   "metadata": {},
   "source": [
    "And that is it! Enjoy predicting your own ZPRs. "
   ]
  }
 ],
 "metadata": {
  "kernelspec": {
   "display_name": "reinforcementlearning",
   "language": "python",
   "name": "python3"
  },
  "language_info": {
   "codemirror_mode": {
    "name": "ipython",
    "version": 3
   },
   "file_extension": ".py",
   "mimetype": "text/x-python",
   "name": "python",
   "nbconvert_exporter": "python",
   "pygments_lexer": "ipython3",
   "version": "3.10.9"
  },
  "orig_nbformat": 4
 },
 "nbformat": 4,
 "nbformat_minor": 2
}
